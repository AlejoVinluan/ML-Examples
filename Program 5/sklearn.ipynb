{
 "cells": [
  {
   "attachments": {},
   "cell_type": "markdown",
   "metadata": {},
   "source": [
    "## Alejo Vinluan (abv210001)\n",
    "\n",
    "# Maching Learning with SKLearn\n",
    "The purpose of this Jupyter notebook is to gain experience using sklearn on a small dataset.\n",
    "\n",
    "## Dataset Breakdown\n",
    "The dataset gives the following columns:\n",
    "* mpg - The average gas mileage of the vehicle\n",
    "\n",
    "* cylinders - The number of cylinders the car has\n",
    "\n",
    "* displacement - The engine size\n",
    "\n",
    "* horsepower - The horsepower of the vehicle\n",
    "\n",
    "* weight - The weight of the vehicle in pounds\n",
    "\n",
    "* acceleration - The acceleration of a vehicle\n",
    "\n",
    "* year - The year of the vehicle\n",
    "\n",
    "* origin - The origin of the car (based on classification)\n",
    "\n",
    "* name - The make and model of the car\n",
    "\n",
    "\n",
    "## Read the Data\n",
    "This section will use pandas to read the data, output the first few rows, and output the dimensions of the data."
   ]
  },
  {
   "cell_type": "code",
   "execution_count": 2,
   "metadata": {},
   "outputs": [
    {
     "name": "stdout",
     "output_type": "stream",
     "text": [
      "Head of Data Frame:\n",
      "    mpg  cylinders  displacement  horsepower  weight  acceleration  year  \\\n",
      "0  18.0          8         307.0         130    3504          12.0  70.0   \n",
      "1  15.0          8         350.0         165    3693          11.5  70.0   \n",
      "2  18.0          8         318.0         150    3436          11.0  70.0   \n",
      "3  16.0          8         304.0         150    3433          12.0  70.0   \n",
      "4  17.0          8         302.0         140    3449           NaN  70.0   \n",
      "\n",
      "   origin                       name  \n",
      "0       1  chevrolet chevelle malibu  \n",
      "1       1          buick skylark 320  \n",
      "2       1         plymouth satellite  \n",
      "3       1              amc rebel sst  \n",
      "4       1                ford torino  \n",
      "Number of Rows: 392\n",
      "Number of Columns: 9\n"
     ]
    }
   ],
   "source": [
    "import pandas as pd\n",
    "\n",
    "# Import the data from the folder\n",
    "data = pd.read_csv('data/Auto.csv')\n",
    "\n",
    "# Output the first few rows\n",
    "print(\"Head of Data Frame:\")\n",
    "print(data.head())\n",
    "\n",
    "# Output the dimensions of the data\n",
    "print(\"Number of Rows:\", data.shape[0])\n",
    "print(\"Number of Columns:\", data.shape[1])"
   ]
  },
  {
   "attachments": {},
   "cell_type": "markdown",
   "metadata": {},
   "source": [
    "## Data Exploration\n",
    "This section will describe the mpg, weight, and year columns.\n",
    "\n",
    "### MPG Description\n",
    "The MPG of a vehicle is a vehicle's \"miles per gallon\". This is how many miles a vehicle can drive per 1 gallon of fuel."
   ]
  },
  {
   "cell_type": "code",
   "execution_count": 3,
   "metadata": {},
   "outputs": [
    {
     "name": "stdout",
     "output_type": "stream",
     "text": [
      "MPG Description\n",
      "count    392.000000\n",
      "mean      23.445918\n",
      "std        7.805007\n",
      "min        9.000000\n",
      "25%       17.000000\n",
      "50%       22.750000\n",
      "75%       29.000000\n",
      "max       46.600000\n",
      "Name: mpg, dtype: float64\n"
     ]
    }
   ],
   "source": [
    "print(\"MPG Description\")\n",
    "print(data['mpg'].describe())"
   ]
  },
  {
   "attachments": {},
   "cell_type": "markdown",
   "metadata": {},
   "source": [
    "For the vehicles within the dataset, there is an average of 23.45 mpg. The vehicle with the worst fuel economy is at 9 mpg while the vehicle with the best fuel economy is at 46.6 mpg.\n",
    "\n",
    "### Weight Description\n",
    "This is a vehicle's curb weight. This will represent how many pounds a vehicle is."
   ]
  },
  {
   "cell_type": "code",
   "execution_count": 5,
   "metadata": {},
   "outputs": [
    {
     "name": "stdout",
     "output_type": "stream",
     "text": [
      "Weight Description\n",
      "count     392.000000\n",
      "mean     2977.584184\n",
      "std       849.402560\n",
      "min      1613.000000\n",
      "25%      2225.250000\n",
      "50%      2803.500000\n",
      "75%      3614.750000\n",
      "max      5140.000000\n",
      "Name: weight, dtype: float64\n"
     ]
    }
   ],
   "source": [
    "print(\"Weight Description\")\n",
    "print(data['weight'].describe())"
   ]
  },
  {
   "attachments": {},
   "cell_type": "markdown",
   "metadata": {},
   "source": [
    "According to the description returned, we find that:\n",
    "\n",
    "* The average weight of a vehicle is 2977.58 lbs\n",
    "\n",
    "* The lightest vehicle within the dataset is 1613 lbs.\n",
    "\n",
    "* The heaviest vehicle in the dataset is 5140 lbs.\n",
    "\n",
    "\n",
    "### Year Description\n",
    "This column is the year the vehicle was released."
   ]
  },
  {
   "cell_type": "code",
   "execution_count": 6,
   "metadata": {},
   "outputs": [
    {
     "name": "stdout",
     "output_type": "stream",
     "text": [
      "Year Description\n",
      "count    390.000000\n",
      "mean      76.010256\n",
      "std        3.668093\n",
      "min       70.000000\n",
      "25%       73.000000\n",
      "50%       76.000000\n",
      "75%       79.000000\n",
      "max       82.000000\n",
      "Name: year, dtype: float64\n"
     ]
    }
   ],
   "source": [
    "print(\"Year Description\")\n",
    "print(data['year'].describe())"
   ]
  },
  {
   "attachments": {},
   "cell_type": "markdown",
   "metadata": {},
   "source": [
    "According to the year column of the dataset, we find that:\n",
    "\n",
    "* The average year of the vehicles in this dataset is 1976\n",
    "\n",
    "* The oldest car in the dataset is from 1970\n",
    "\n",
    "* The youngest car in the dataset is from 1982\n",
    "\n",
    "## Explore Data Types\n",
    "This section will check the datatypes of all columns, change both the origin and cylinders columns to categorical, and verify the changes utilizing the dtypes attribute."
   ]
  },
  {
   "cell_type": "code",
   "execution_count": 14,
   "metadata": {},
   "outputs": [
    {
     "name": "stdout",
     "output_type": "stream",
     "text": [
      "Auto Dataset Types:\n",
      "mpg              float64\n",
      "cylinders       category\n",
      "displacement     float64\n",
      "horsepower         int64\n",
      "weight             int64\n",
      "acceleration     float64\n",
      "year             float64\n",
      "origin          category\n",
      "name              object\n",
      "dtype: object\n",
      "\n",
      "After changing origin and cylinder to categorical\n",
      "Origin column type: category\n",
      "Cylinders column type: category\n"
     ]
    }
   ],
   "source": [
    "# Print the types\n",
    "print(\"Auto Dataset Types:\")\n",
    "print(data.dtypes)\n",
    "\n",
    "# Change the 'origin' and 'cylinder' columns to categorical\n",
    "data['origin'] = pd.Categorical(data['origin'])\n",
    "data['cylinders'] = data['cylinders'].astype('category').cat.codes\n",
    "\n",
    "# Verify the changes were completed\n",
    "print(\"\\nAfter changing origin and cylinder to categorical\")\n",
    "print(\"Origin column type:\", data['origin'].dtypes)\n",
    "print(\"Cylinders column type:\", data['cylinders'].dtypes)"
   ]
  },
  {
   "attachments": {},
   "cell_type": "markdown",
   "metadata": {},
   "source": [
    "## Delete rows with NA Values\n",
    "This section with delete the rows with NA values and output the new dimension of the dataset."
   ]
  },
  {
   "cell_type": "code",
   "execution_count": 15,
   "metadata": {},
   "outputs": [
    {
     "name": "stdout",
     "output_type": "stream",
     "text": [
      "Shape of Dataset After Dropping NA\n",
      " Rows: 389\n",
      " of Columns: 9\n"
     ]
    }
   ],
   "source": [
    "# Drop the rows with NA\n",
    "data = data.dropna()\n",
    "\n",
    "print(\"Shape of Dataset After Dropping NA\")\n",
    "print(\" Rows:\", data.shape[0])\n",
    "print(\" of Columns:\", data.shape[1])"
   ]
  },
  {
   "attachments": {},
   "cell_type": "markdown",
   "metadata": {},
   "source": [
    "After dropping the rows with NA, the rows reduced from 392 to 389. 3 rows were dropped after removing rows with NA values.\n",
    "\n",
    "## Modify the Columns\n",
    "This section will create a new column named mpg_high. mpg_high will be categorical and return a 1 if that vehicle has a mpg higher than the average or 0 if it is equal to or lower than average."
   ]
  },
  {
   "cell_type": "code",
   "execution_count": 20,
   "metadata": {},
   "outputs": [
    {
     "name": "stdout",
     "output_type": "stream",
     "text": [
      "Average MPG: 23.490488431876607\n",
      "\n",
      "Data head to show new mpg_high column\n",
      "    mpg cylinders  displacement  horsepower  weight  acceleration  year  \\\n",
      "0  18.0         8         307.0         130    3504          12.0  70.0   \n",
      "1  15.0         8         350.0         165    3693          11.5  70.0   \n",
      "2  18.0         8         318.0         150    3436          11.0  70.0   \n",
      "3  16.0         8         304.0         150    3433          12.0  70.0   \n",
      "6  14.0         8         454.0         220    4354           9.0  70.0   \n",
      "\n",
      "  origin                       name mpg_high  \n",
      "0      1  chevrolet chevelle malibu        0  \n",
      "1      1          buick skylark 320        0  \n",
      "2      1         plymouth satellite        0  \n",
      "3      1              amc rebel sst        0  \n",
      "6      1           chevrolet impala        0  \n"
     ]
    }
   ],
   "source": [
    "# Get the average mpg\n",
    "avg_mpg = data['mpg'].mean()\n",
    "print(\"Average MPG:\", avg_mpg)\n",
    "\n",
    "# Create the mpg_high column\n",
    "data['mpg_high'] = data.apply(lambda row: 1 if row.mpg > avg_mpg else 0, axis=1)\n",
    "\n",
    "# Change type of mpg_high to categorical\n",
    "data['mpg_high'] = pd.Categorical(data['mpg_high'])\n",
    "\n",
    "# Print head of the dataset\n",
    "print(\"\\nData head to show new mpg_high column\")\n",
    "print(data.head())"
   ]
  }
 ],
 "metadata": {
  "kernelspec": {
   "display_name": "Python 3",
   "language": "python",
   "name": "python3"
  },
  "language_info": {
   "codemirror_mode": {
    "name": "ipython",
    "version": 3
   },
   "file_extension": ".py",
   "mimetype": "text/x-python",
   "name": "python",
   "nbconvert_exporter": "python",
   "pygments_lexer": "ipython3",
   "version": "3.11.0"
  },
  "orig_nbformat": 4
 },
 "nbformat": 4,
 "nbformat_minor": 2
}
